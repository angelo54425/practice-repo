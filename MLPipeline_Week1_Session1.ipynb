{
  "cells": [
    {
      "cell_type": "markdown",
      "metadata": {
        "colab_type": "text",
        "id": "view-in-github"
      },
      "source": [
        "<a href=\"https://colab.research.google.com/github/angelo54425/practice-repo/blob/main/MLPipeline_Week1_Session1.ipynb\" target=\"_parent\"><img src=\"https://colab.research.google.com/assets/colab-badge.svg\" alt=\"Open In Colab\"/></a>"
      ]
    },
    {
      "cell_type": "code",
      "execution_count": 1,
      "metadata": {
        "id": "0x8PhK9DkB9t"
      },
      "outputs": [
        {
          "name": "stderr",
          "output_type": "stream",
          "text": [
            "/Users/angelo/Documents/VSCode/practice-repo/.venv/lib/python3.9/site-packages/urllib3/__init__.py:35: NotOpenSSLWarning: urllib3 v2 only supports OpenSSL 1.1.1+, currently the 'ssl' module is compiled with 'LibreSSL 2.8.3'. See: https://github.com/urllib3/urllib3/issues/3020\n",
            "  warnings.warn(\n"
          ]
        }
      ],
      "source": [
        "# Importing libraries\n",
        "import pandas as pd\n",
        "import numpy as np\n",
        "import requests\n",
        "from io import StringIO"
      ]
    },
    {
      "cell_type": "code",
      "execution_count": 2,
      "metadata": {
        "colab": {
          "base_uri": "https://localhost:8080/"
        },
        "id": "4HgEumxnkJNz",
        "outputId": "1b0debba-ec38-42ce-df76-d7206c2af724"
      },
      "outputs": [
        {
          "name": "stdout",
          "output_type": "stream",
          "text": [
            "<class 'pandas.core.frame.DataFrame'>\n",
            "RangeIndex: 61 entries, 0 to 60\n",
            "Data columns (total 10 columns):\n",
            " #   Column            Non-Null Count  Dtype  \n",
            "---  ------            --------------  -----  \n",
            " 0   index             61 non-null     int64  \n",
            " 1   company           61 non-null     object \n",
            " 2   body-style        61 non-null     object \n",
            " 3   wheel-base        61 non-null     float64\n",
            " 4   length            61 non-null     float64\n",
            " 5   engine-type       61 non-null     object \n",
            " 6   num-of-cylinders  61 non-null     object \n",
            " 7   horsepower        61 non-null     int64  \n",
            " 8   average-mileage   61 non-null     int64  \n",
            " 9   price             58 non-null     float64\n",
            "dtypes: float64(3), int64(3), object(4)\n",
            "memory usage: 4.9+ KB\n"
          ]
        }
      ],
      "source": [
        "\"\"\" Loading the data \"\"\"\n",
        "\n",
        "# Read the data\n",
        "url = \"https://pynative.com/wp-content/uploads/2019/01/Automobile_data.csv\"\n",
        "\n",
        "# Send request with headers\n",
        "headers = {'User-Agent': 'Mozilla/5.0'}\n",
        "response = requests.get(url, headers=headers)\n",
        "\n",
        "# Load into pandas\n",
        "df = pd.read_csv(StringIO(response.text))\n",
        "df.info()"
      ]
    },
    {
      "cell_type": "code",
      "execution_count": 3,
      "metadata": {
        "id": "jaAilnkqkTnY"
      },
      "outputs": [
        {
          "name": "stdout",
          "output_type": "stream",
          "text": [
            "The first column is: index\n",
            "The last 5 columns are: Index(['engine-type', 'num-of-cylinders', 'horsepower', 'average-mileage',\n",
            "       'price'],\n",
            "      dtype='object')\n"
          ]
        }
      ],
      "source": [
        "# Print the first and last five columns\n",
        "print(\"The first column is:\", df.columns[0])\n",
        "print(\"The last 5 columns are:\", df.columns[-5:])"
      ]
    },
    {
      "cell_type": "code",
      "execution_count": 4,
      "metadata": {},
      "outputs": [
        {
          "name": "stdout",
          "output_type": "stream",
          "text": [
            "The most affordable car is a hatchback from chevrolet priced at $5151.00; Index number 16\n"
          ]
        }
      ],
      "source": [
        "most_afforadable_car = df.loc[df['price'].idxmin()]\n",
        "\n",
        "print(\"The most affordable car is a {} from {} priced at ${:.2f}; Index number {}\".format(\n",
        "    most_afforadable_car['body-style'],\n",
        "    most_afforadable_car['company'],\n",
        "    most_afforadable_car['price'],\n",
        "    most_afforadable_car['index']\n",
        "))"
      ]
    },
    {
      "cell_type": "code",
      "execution_count": 5,
      "metadata": {},
      "outputs": [
        {
          "name": "stdout",
          "output_type": "stream",
          "text": [
            "count       58.000000\n",
            "mean     15387.000000\n",
            "std      11320.259841\n",
            "min       5151.000000\n",
            "25%       6808.500000\n",
            "50%      11095.000000\n",
            "75%      18120.500000\n",
            "max      45400.000000\n",
            "Name: price, dtype: float64\n",
            "\n",
            " 3\n"
          ]
        }
      ],
      "source": [
        "print(df['price'].describe())\n",
        "print(\"\\n\", df['price'].isna().sum())"
      ]
    },
    {
      "cell_type": "code",
      "execution_count": 6,
      "metadata": {
        "id": "SVLL09RhlIHc"
      },
      "outputs": [
        {
          "name": "stdout",
          "output_type": "stream",
          "text": [
            "Missing values in each column:\n",
            " index               0\n",
            "company             0\n",
            "body-style          0\n",
            "wheel-base          0\n",
            "length              0\n",
            "engine-type         0\n",
            "num-of-cylinders    0\n",
            "horsepower          0\n",
            "average-mileage     0\n",
            "price               3\n",
            "dtype: int64\n",
            "Missing values after replacement:\n",
            " index               0\n",
            "company             0\n",
            "body-style          0\n",
            "wheel-base          0\n",
            "length              0\n",
            "engine-type         0\n",
            "num-of-cylinders    0\n",
            "horsepower          0\n",
            "average-mileage     0\n",
            "price               0\n",
            "dtype: int64\n"
          ]
        }
      ],
      "source": [
        "# Identify missing values and choose a method to replace them\n",
        "# Check for missing values\n",
        "missing_values = df.isnull().sum()\n",
        "print(\"Missing values in each column:\\n\", missing_values)\n",
        "# Replace missing values with the mean of the column\n",
        "df['price'] = df.groupby('company')['price'].transform(lambda x: x.fillna(x.mean()))\n",
        "#df.fillna(missing_values.mean(), inplace=True)\n",
        "# Check if there are still any missing values\n",
        "missing_values_after = df.isnull().sum()\n",
        "print(\"Missing values after replacement:\\n\", missing_values_after)"
      ]
    },
    {
      "cell_type": "code",
      "execution_count": 7,
      "metadata": {
        "id": "ZhT12ZI9lM9b"
      },
      "outputs": [
        {
          "name": "stdout",
          "output_type": "stream",
          "text": [
            "The most expensive car is a hardtop from mercedes-benz priced at $45400.00\n"
          ]
        }
      ],
      "source": [
        "# Print the most expensive car, the company name, and the price.\n",
        "most_expensive_car = df.loc[df['price'].idxmax()]\n",
        "\n",
        "# Print the result\n",
        "print(\"The most expensive car is a {} from {} priced at ${:.2f}\".format(\n",
        "    most_expensive_car['body-style'],\n",
        "    most_expensive_car['company'],\n",
        "    most_expensive_car['price']\n",
        "))"
      ]
    },
    {
      "cell_type": "code",
      "execution_count": 8,
      "metadata": {},
      "outputs": [
        {
          "name": "stdout",
          "output_type": "stream",
          "text": [
            "The most affordable car is a hatchback from chevrolet priced at $5151.00; Index number 16\n",
            "Price of the car with index 63: 35528.0\n"
          ]
        }
      ],
      "source": [
        "# Print the most affordable car, the company name, and the price.\n",
        "most_afforadable_car = df.loc[df['price'].idxmin()]\n",
        "\n",
        "print(\"The most affordable car is a {} from {} priced at ${:.2f}; Index number {}\".format(\n",
        "    most_afforadable_car['body-style'],\n",
        "    most_afforadable_car['company'],\n",
        "    most_afforadable_car['price'],\n",
        "    most_afforadable_car['index']\n",
        "))\n",
        "\n",
        "# Print the price of the car with index 63\n",
        "car_x = df[df['index'] == 63]\n",
        "if not car_x.empty:\n",
        "    print(\"Price of the car with index 63:\", car_x.iloc[0]['price'])\n",
        "else:\n",
        "    print(\"No car found with index 63.\")"
      ]
    },
    {
      "cell_type": "code",
      "execution_count": 9,
      "metadata": {
        "id": "7txhJGntlUpi"
      },
      "outputs": [
        {
          "name": "stdout",
          "output_type": "stream",
          "text": [
            "Total cars per company:\n",
            " company\n",
            "toyota           7\n",
            "bmw              6\n",
            "mazda            5\n",
            "nissan           5\n",
            "mercedes-benz    4\n",
            "audi             4\n",
            "volkswagen       4\n",
            "mitsubishi       4\n",
            "chevrolet        3\n",
            "jaguar           3\n",
            "isuzu            3\n",
            "honda            3\n",
            "porsche          3\n",
            "alfa-romero      3\n",
            "dodge            2\n",
            "volvo            2\n",
            "Name: count, dtype: int64\n"
          ]
        }
      ],
      "source": [
        "# Count total cars per company\n",
        "car_count_per_company = df['company'].value_counts()\n",
        "print( \"Total cars per company:\\n\", car_count_per_company)"
      ]
    },
    {
      "cell_type": "code",
      "execution_count": 10,
      "metadata": {
        "id": "bALqomL0lZc6"
      },
      "outputs": [
        {
          "name": "stdout",
          "output_type": "stream",
          "text": [
            "Highest priced cars per company:\n",
            "           company   body-style    price\n",
            "1     alfa-romero  convertible  16500.0\n",
            "6            audi        wagon  18920.0\n",
            "11            bmw        sedan  41315.0\n",
            "15      chevrolet        sedan   6575.0\n",
            "16          dodge    hatchback   6377.0\n",
            "19          honda        sedan  12945.0\n",
            "21          isuzu        sedan   6785.0\n",
            "26         jaguar        sedan  36000.0\n",
            "31          mazda        sedan  18344.0\n",
            "35  mercedes-benz      hardtop  45400.0\n",
            "39     mitsubishi        sedan   8189.0\n",
            "44         nissan        sedan  13499.0\n",
            "46        porsche  convertible  37028.0\n",
            "54         toyota        wagon  15750.0\n",
            "58     volkswagen        sedan   9995.0\n",
            "60          volvo        wagon  13415.0\n"
          ]
        }
      ],
      "source": [
        "# Find each company’s highest-priced car\n",
        "highest_priced_cars = df.groupby('company')['price'].idxmax()\n",
        "print(\"Highest priced cars per company:\\n\", df.loc[highest_priced_cars, ['company', 'body-style', 'price']])\n"
      ]
    },
    {
      "cell_type": "code",
      "execution_count": 11,
      "metadata": {},
      "outputs": [
        {
          "name": "stdout",
          "output_type": "stream",
          "text": [
            "\n",
            "Lowest priced cars per company:\n",
            "           company   body-style    price\n",
            "0     alfa-romero  convertible  13495.0\n",
            "3            audi        sedan  13950.0\n",
            "7             bmw        sedan  16430.0\n",
            "13      chevrolet    hatchback   5151.0\n",
            "17          dodge    hatchback   6229.0\n",
            "18          honda        wagon   7295.0\n",
            "21          isuzu        sedan   6785.0\n",
            "24         jaguar        sedan  32250.0\n",
            "27          mazda    hatchback   5195.0\n",
            "32  mercedes-benz        sedan  25552.0\n",
            "36     mitsubishi    hatchback   5389.0\n",
            "41         nissan        sedan   6649.0\n",
            "45        porsche      hardtop  34028.0\n",
            "48         toyota    hatchback   5348.0\n",
            "55     volkswagen        sedan   7775.0\n",
            "59          volvo        sedan  12940.0\n"
          ]
        }
      ],
      "source": [
        "# Find each company’s lowest-priced car\n",
        "lowest_priced_cars = df.groupby('company')['price'].idxmin()\n",
        "print(\"\\nLowest priced cars per company:\\n\", df.loc[lowest_priced_cars, ['company', 'body-style', 'price']])"
      ]
    },
    {
      "cell_type": "code",
      "execution_count": 18,
      "metadata": {
        "id": "Xj8M0T88lciK"
      },
      "outputs": [
        {
          "name": "stdout",
          "output_type": "stream",
          "text": [
            "\n",
            "Average mileage per company:\n",
            " company\n",
            "alfa-romero      20.333\n",
            "audi             20.000\n",
            "bmw              19.000\n",
            "chevrolet        41.000\n",
            "dodge            31.000\n",
            "honda            26.333\n",
            "isuzu            33.333\n",
            "jaguar           14.333\n",
            "mazda            28.000\n",
            "mercedes-benz    18.000\n",
            "mitsubishi       29.500\n",
            "nissan           31.400\n",
            "porsche          17.000\n",
            "toyota           28.714\n",
            "volkswagen       31.750\n",
            "volvo            23.000\n",
            "Name: average-mileage, dtype: float64\n"
          ]
        }
      ],
      "source": [
        "# Find the average mileage of each car-making company\n",
        "average_mileage_per_company = df.groupby('company')['average-mileage'].mean()\n",
        "print(\"\\nAverage mileage per company:\\n\", average_mileage_per_company.round(3))"
      ]
    },
    {
      "cell_type": "code",
      "execution_count": 24,
      "metadata": {
        "id": "aJ3x7dhilhX0"
      },
      "outputs": [
        {
          "name": "stdout",
          "output_type": "stream",
          "text": [
            "\n",
            "Sorted cars by price:\n",
            "        company body-style   price\n",
            "13   chevrolet  hatchback  5151.0\n",
            "27       mazda  hatchback  5195.0\n",
            "48      toyota  hatchback  5348.0\n",
            "36  mitsubishi  hatchback  5389.0\n",
            "28       mazda  hatchback  6095.0\n",
            "37  mitsubishi  hatchback  6189.0\n",
            "17       dodge  hatchback  6229.0\n",
            "14   chevrolet  hatchback  6295.0\n",
            "49      toyota  hatchback  6338.0\n",
            "16       dodge  hatchback  6377.0\n"
          ]
        }
      ],
      "source": [
        "# Sort all cars by the price column\n",
        "sorted_cars_ascending = df.sort_values(by='price', ascending=True)\n",
        "print(\"\\nSorted cars by price:\\n\", sorted_cars_ascending[['company', 'body-style', 'price']].head(10))"
      ]
    },
    {
      "cell_type": "code",
      "execution_count": 25,
      "metadata": {},
      "outputs": [
        {
          "name": "stdout",
          "output_type": "stream",
          "text": [
            "\n",
            "Sorted cars by price:\n",
            "           company   body-style    price\n",
            "35  mercedes-benz      hardtop  45400.0\n",
            "11            bmw        sedan  41315.0\n",
            "34  mercedes-benz        sedan  40960.0\n",
            "46        porsche  convertible  37028.0\n",
            "12            bmw        sedan  36880.0\n",
            "26         jaguar        sedan  36000.0\n",
            "25         jaguar        sedan  35550.0\n",
            "47        porsche    hatchback  35528.0\n",
            "45        porsche      hardtop  34028.0\n",
            "24         jaguar        sedan  32250.0\n"
          ]
        }
      ],
      "source": [
        "# Sort all cars by the price column\n",
        "sorted_cars_descending = df.sort_values(by='price', ascending=False)\n",
        "print(\"\\nSorted cars by price:\\n\", sorted_cars_descending[['company', 'body-style', 'price']].head(10))"
      ]
    }
  ],
  "metadata": {
    "colab": {
      "include_colab_link": true,
      "provenance": []
    },
    "kernelspec": {
      "display_name": ".venv",
      "language": "python",
      "name": "python3"
    },
    "language_info": {
      "codemirror_mode": {
        "name": "ipython",
        "version": 3
      },
      "file_extension": ".py",
      "mimetype": "text/x-python",
      "name": "python",
      "nbconvert_exporter": "python",
      "pygments_lexer": "ipython3",
      "version": "3.9.6"
    }
  },
  "nbformat": 4,
  "nbformat_minor": 0
}
